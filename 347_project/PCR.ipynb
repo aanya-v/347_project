{
 "cells": [
  {
   "cell_type": "code",
   "execution_count": 11,
   "id": "e8dca249",
   "metadata": {},
   "outputs": [],
   "source": [
    "import numpy as np\n",
    "import matplotlib.pyplot as plt\n",
    "import pandas as pd\n",
    "import seaborn as sns\n",
    "import warnings\n",
    "warnings.filterwarnings('ignore')\n",
    "import statsmodels.api as sm\n",
    "import time\n",
    "import itertools\n",
    "from sklearn.model_selection import train_test_split\n",
    "from sklearn.linear_model import LinearRegression\n",
    "from sklearn.metrics import mean_squared_error, r2_score\n",
    "from sklearn.cross_decomposition import PLSRegression\n",
    "from sklearn.model_selection import cross_val_score\n",
    "from sklearn.tree import DecisionTreeRegressor\n",
    "from sklearn.tree import plot_tree\n",
    "from sklearn.model_selection import GridSearchCV\n",
    "from sklearn.ensemble import RandomForestRegressor\n",
    "from sklearn.ensemble import GradientBoostingRegressor as GBR\n",
    "from sklearn.datasets import fetch_openml\n",
    "from sklearn.preprocessing import StandardScaler\n",
    "from sklearn.datasets import fetch_openml\n",
    "from sklearn.decomposition import PCA\n",
    "import sklearn.linear_model as skl\n",
    "from sklearn.preprocessing import StandardScaler\n",
    "from sklearn.pipeline import Pipeline\n",
    "from sklearn.metrics import accuracy_score\n",
    "from sklearn.linear_model import LogisticRegression\n",
    "from sklearn.ensemble import RandomForestClassifier\n",
    "from sklearn.metrics import accuracy_score, f1_score, roc_auc_score\n",
    "import random\n",
    "from sklearn.metrics import mean_squared_error, mean_absolute_error, r2_score\n",
    "from sklearn.linear_model import Ridge\n",
    "from sklearn.model_selection import GridSearchCV\n",
    "import numpy as np"
   ]
  },
  {
   "cell_type": "code",
   "execution_count": 2,
   "id": "98fa77c8",
   "metadata": {},
   "outputs": [],
   "source": [
    "df = pd.read_csv(\"/Users/safiaread/Downloads/calories.csv\")\n",
    "df['Gender'] = df['Gender'].map({'male': 0, 'female': 1})\n",
    "df.drop(['User_ID'], axis=1, inplace=True)\n",
    "X = df.drop(columns = [\"Calories\"])\n",
    "y = df['Calories']"
   ]
  },
  {
   "cell_type": "code",
   "execution_count": 5,
   "id": "94ba80ce",
   "metadata": {},
   "outputs": [],
   "source": [
    "X_train_val, X_test, Y_train_val, Y_test = train_test_split(X, y, test_size=0.15, random_state=0)\n",
    "\n",
    "# Now split the train_val set further into train and validation (e.g., 71% train, 14% validation)\n",
    "X_train, X_val, Y_train, Y_val = train_test_split(X_train_val, Y_train_val, test_size=0.2, random_state=0)"
   ]
  },
  {
   "cell_type": "code",
   "execution_count": 12,
   "id": "8e5e0183",
   "metadata": {},
   "outputs": [
    {
     "name": "stdout",
     "output_type": "stream",
     "text": [
      "Best n_components: 7\n",
      "Best alpha (lambda): 0.2682695795279725\n",
      "Best CV MSE: 130.22703865742423\n",
      "Test MSE: 115.29034217337195\n",
      "Test MAE: 8.008545371731772\n",
      "Test R²: 0.970100660201769\n"
     ]
    }
   ],
   "source": [
    "pipe = Pipeline([\n",
    "    ('scaler', StandardScaler()),\n",
    "    ('pca', PCA()),\n",
    "    ('ridge', Ridge())\n",
    "])\n",
    "\n",
    "param_grid = {\n",
    "    'pca__n_components': list(range(1, X_train.shape[1] + 1)),\n",
    "    'ridge__alpha': np.logspace(-4, 4, 50)\n",
    "}\n",
    "\n",
    "search = GridSearchCV(pipe, param_grid, cv=5, scoring='neg_mean_squared_error')\n",
    "search.fit(X_train, Y_train)\n",
    "\n",
    "print(\"Best n_components:\", search.best_params_['pca__n_components'])\n",
    "print(\"Best alpha (lambda):\", search.best_params_['ridge__alpha'])\n",
    "print(\"Best CV MSE:\", -search.best_score_)\n",
    "\n",
    "test_pred = search.predict(X_test)\n",
    "\n",
    "# Calculate error metrics\n",
    "mse = mean_squared_error(Y_test, test_pred)\n",
    "mae = mean_absolute_error(Y_test, test_pred)\n",
    "r2 = r2_score(Y_test, test_pred)\n",
    "\n",
    "print(\"Test MSE:\", mse)\n",
    "print(\"Test MAE:\", mae)\n",
    "print(\"Test R²:\", r2)"
   ]
  }
 ],
 "metadata": {
  "kernelspec": {
   "display_name": "Python 3 (ipykernel)",
   "language": "python",
   "name": "python3"
  },
  "language_info": {
   "codemirror_mode": {
    "name": "ipython",
    "version": 3
   },
   "file_extension": ".py",
   "mimetype": "text/x-python",
   "name": "python",
   "nbconvert_exporter": "python",
   "pygments_lexer": "ipython3",
   "version": "3.11.5"
  }
 },
 "nbformat": 4,
 "nbformat_minor": 5
}
